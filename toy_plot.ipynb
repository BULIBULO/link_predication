{
 "cells": [
  {
   "cell_type": "code",
   "execution_count": 72,
   "metadata": {},
   "outputs": [],
   "source": [
    "%matplotlib inline\n",
    "import pandas as pd\n",
    "import matplotlib.pyplot as plt\n",
    "import numpy as np"
   ]
  },
  {
   "cell_type": "code",
   "execution_count": 77,
   "metadata": {},
   "outputs": [],
   "source": [
    "results_dict = {'USAir': {0: {'cn': 0.7676666666666667, 'jc': 0.7103916666666666, 'ra': 0.8012333333333334, 'aa': 0.7862583333333333, 'pa': 0.40579166666666666, 'katz': 0.8320833333333333}, 1: {'cn': 0.8855, 'jc': 0.8142166666666667, 'ra': 0.9109666666666667, 'aa': 0.79445, 'pa': 0.416575, 'katz': 0.9086416666666667}, 2: {'cn': 0.919, 'jc': 0.8604833333333334, 'ra': 0.9333666666666667, 'aa': 0.8238583333333334, 'pa': 0.4099, 'katz': 0.9193083333333333}, 3: {'cn': 0.9362416666666666, 'jc': 0.8745083333333333, 'ra': 0.9474166666666667, 'aa': 0.838175, 'pa': 0.46324166666666666, 'katz': 0.9382166666666667}, 4: {'cn': 0.9375, 'jc': 0.85935, 'ra': 0.949075, 'aa': 0.8336666666666667, 'pa': 0.43915, 'katz': 0.94225}, 5: {'cn': 0.9153, 'jc': 0.843225, 'ra': 0.9314916666666667, 'aa': 0.8315583333333333, 'pa': 0.4442, 'katz': 0.9222666666666667}, 6: {'cn': 0.8242083333333333, 'jc': 0.7358666666666667, 'ra': 0.8571416666666667, 'aa': 0.768475, 'pa': 0.5265583333333334, 'katz': 0.8247}, 7: {'cn': 0.747575, 'jc': 0.717475, 'ra': 0.758675, 'aa': 0.7576333333333334, 'pa': 0.4671666666666667, 'katz': 0.688525}, 8: {'cn': 0.63175, 'jc': 0.6126833333333334, 'ra': 0.6569083333333333, 'aa': 0.6498, 'pa': 0.4429916666666667, 'katz': 0.54425}, 9: {'cn': 0.5593583333333333, 'jc': 0.58345, 'ra': 0.610775, 'aa': 0.58405, 'pa': 0.40818333333333334, 'katz': 0.44745833333333335}}}"
   ]
  },
  {
   "cell_type": "code",
   "execution_count": 74,
   "metadata": {},
   "outputs": [],
   "source": [
    "def plot_avg_and_std(ndarray, x_label, dataset_name):\n",
    "    avg = np.mean(ndarray, axis=0)\n",
    "    std = np.std(ndarray, axis=0)\n",
    "\n",
    "    fig, ax = plt.subplots()\n",
    "    plt.errorbar(x_label, avg, std, linestyle='None', marker='^')\n",
    "    fig.suptitle(dataset_name, fontsize=12)\n",
    "    plt.show()"
   ]
  },
  {
   "cell_type": "code",
   "execution_count": 75,
   "metadata": {},
   "outputs": [],
   "source": [
    "def dict_to_array(results_dict):\n",
    "    for key, value in results.items():\n",
    "        dataset_name, fold_dict = key, value\n",
    "\n",
    "        method_names = list(fold_dict[0].keys())\n",
    "\n",
    "        results_array = []\n",
    "        for k, v in fold_dict.items():\n",
    "            result = []\n",
    "            for _, res in v.items():\n",
    "                result.append(res)\n",
    "            results_array.append(result)\n",
    "        results_array = np.asarray(results_array)\n",
    "\n",
    "        yield dataset_name, results_array, method_names"
   ]
  },
  {
   "cell_type": "code",
   "execution_count": 78,
   "metadata": {},
   "outputs": [
    {
     "data": {
      "image/png": "[encoded data removed]",
      "text/plain": [
       "<Figure size 432x288 with 1 Axes>"
      ]
     },
     "metadata": {
      "needs_background": "light"
     },
     "output_type": "display_data"
    }
   ],
   "source": [
    "for dataset_name, results_array, x_label in dict_to_array(results_dict):\n",
    "    plot_avg_and_std(results_array, x_label, dataset_name)"
   ]
  },
  {
   "cell_type": "code",
   "execution_count": null,
   "metadata": {},
   "outputs": [],
   "source": []
  }
 ],
 "metadata": {
  "kernelspec": {
   "display_name": "Python 3",
   "language": "python",
   "name": "python3"
  },
  "language_info": {
   "codemirror_mode": {
    "name": "ipython",
    "version": 3
   },
   "file_extension": ".py",
   "mimetype": "text/x-python",
   "name": "python",
   "nbconvert_exporter": "python",
   "pygments_lexer": "ipython3",
   "version": "3.7.2"
  }
 },
 "nbformat": 4,
 "nbformat_minor": 2
}
